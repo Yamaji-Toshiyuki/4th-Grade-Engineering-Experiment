{
 "cells": [
  {
   "cell_type": "markdown",
   "metadata": {},
   "source": [
    "モジュールインポート"
   ]
  },
  {
   "cell_type": "code",
   "execution_count": null,
   "metadata": {},
   "outputs": [],
   "source": [
    "import numpy as np\n",
    "import pandas as pd\n",
    "import os\n",
    "import matplotlib.pyplot as plt\n",
    "import matplotlib as mpl\n",
    "%matplotlib inline"
   ]
  },
  {
   "cell_type": "markdown",
   "metadata": {},
   "source": [
    "カレントディレクトリの取得"
   ]
  },
  {
   "cell_type": "code",
   "execution_count": 2,
   "metadata": {},
   "outputs": [
    {
     "data": {
      "text/plain": [
       "'D:\\\\Document\\\\4ES工学実験'"
      ]
     },
     "execution_count": 2,
     "metadata": {},
     "output_type": "execute_result"
    }
   ],
   "source": [
    "os.getcwd()"
   ]
  },
  {
   "cell_type": "markdown",
   "metadata": {},
   "source": [
    "もしデータの保存先がカレントディレクトリになっていなければ"
   ]
  },
  {
   "cell_type": "code",
   "execution_count": null,
   "metadata": {},
   "outputs": [],
   "source": [
    "os.chdir(D:\\\\Document\\\\(任意のディレクトリパス))"
   ]
  },
  {
   "cell_type": "markdown",
   "metadata": {},
   "source": [
    "データの取得"
   ]
  },
  {
   "cell_type": "code",
   "execution_count": 4,
   "metadata": {},
   "outputs": [
    {
     "name": "stdout",
     "output_type": "stream",
     "text": [
      "    入力電圧[V]  電源電流[mA]\n",
      "0     0.002     0.050\n",
      "1     0.200     0.050\n",
      "2     0.398     0.050\n",
      "3     0.610     0.050\n",
      "4     0.811     0.055\n",
      "5     1.011     0.110\n",
      "6     1.203     0.282\n",
      "7     1.308     0.420\n",
      "8     1.356     0.516\n",
      "9     1.400     0.598\n",
      "10    1.446     0.680\n",
      "11    1.502     0.792\n",
      "12    1.558     0.910\n",
      "13    1.607     1.040\n",
      "14    1.710     1.290\n",
      "15    1.802     1.504\n",
      "16    1.900     1.800\n",
      "17    1.953     1.990\n",
      "18    2.011     2.200\n",
      "19    2.053     2.440\n",
      "20    2.108     3.200\n",
      "21    2.156    12.400\n",
      "22    2.202    12.400\n",
      "23    2.305    12.300\n",
      "24    2.404    12.300\n",
      "25    2.505    12.200\n",
      "26    2.601    12.100\n",
      "27    2.707    11.500\n",
      "28    2.747     1.800\n",
      "29    2.808     1.630\n",
      "30    2.911     1.490\n",
      "31    3.015     1.250\n",
      "32    3.302     0.790\n",
      "33    3.612     0.380\n",
      "34    3.709     0.170\n",
      "35    3.818     0.100\n",
      "36    3.915     0.050\n",
      "37    4.009     0.020\n",
      "38    4.520     0.000\n",
      "39    5.060     0.000\n"
     ]
    }
   ],
   "source": [
    "data = pd.read_excel(\"ディジタル回路1.xlsx\")\n",
    "print(data)"
   ]
  },
  {
   "cell_type": "code",
   "execution_count": null,
   "metadata": {},
   "outputs": [],
   "source": []
  }
 ],
 "metadata": {
  "kernelspec": {
   "display_name": "Python 3",
   "language": "python",
   "name": "python3"
  },
  "language_info": {
   "codemirror_mode": {
    "name": "ipython",
    "version": 3
   },
   "file_extension": ".py",
   "mimetype": "text/x-python",
   "name": "python",
   "nbconvert_exporter": "python",
   "pygments_lexer": "ipython3",
   "version": "3.7.1"
  }
 },
 "nbformat": 4,
 "nbformat_minor": 2
}
